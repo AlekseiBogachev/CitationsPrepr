{
 "cells": [
  {
   "cell_type": "code",
   "execution_count": null,
   "metadata": {},
   "outputs": [],
   "source": [
    "import re"
   ]
  },
  {
   "cell_type": "code",
   "execution_count": null,
   "metadata": {},
   "outputs": [],
   "source": [
    "with open('.input_data/all_article.bib', \"r\", encoding='utf-8') as f:\n",
    "    filetext = f.read()\n",
    "    \n",
    "with open('.input_data/keys.txt', \"r\", encoding='utf-8') as f:\n",
    "            keystext = f.read()"
   ]
  },
  {
   "cell_type": "code",
   "execution_count": null,
   "metadata": {},
   "outputs": [],
   "source": [
    "keys = tuple(keystext.split('\\n'))\n",
    "del keystext"
   ]
  },
  {
   "cell_type": "code",
   "execution_count": null,
   "metadata": {},
   "outputs": [],
   "source": [
    "enries = []\n",
    "for i in keys:\n",
    "    regex = re.compile(r'(\\@.+\\{(?:.+\\n){9}keywords\\=\\{.*' + i + '.*\\},[\\s\\S]+?,\\})', flags = re.IGNORECASE)\n",
    "    enries += regex.findall(filetext)"
   ]
  },
  {
   "cell_type": "code",
   "execution_count": null,
   "metadata": {},
   "outputs": [],
   "source": [
    "enries = set(enries)"
   ]
  },
  {
   "cell_type": "code",
   "execution_count": null,
   "metadata": {},
   "outputs": [],
   "source": [
    "with open('.input_data/articles_for_references.bib', \"w\", encoding='utf-8') as f:\n",
    "    for e in enries:\n",
    "        f.write(e + '\\n')"
   ]
  }
 ],
 "metadata": {
  "kernelspec": {
   "display_name": "Python 3",
   "language": "python",
   "name": "python3"
  },
  "language_info": {
   "codemirror_mode": {
    "name": "ipython",
    "version": 3
   },
   "file_extension": ".py",
   "mimetype": "text/x-python",
   "name": "python",
   "nbconvert_exporter": "python",
   "pygments_lexer": "ipython3",
   "version": "3.8.8"
  }
 },
 "nbformat": 4,
 "nbformat_minor": 4
}
